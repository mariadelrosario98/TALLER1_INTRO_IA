{
 "cells": [
  {
   "cell_type": "code",
   "execution_count": 8,
   "id": "ba186e2b",
   "metadata": {},
   "outputs": [
    {
     "data": {
      "text/html": [
       "<h2>Taller 1 — Introducción a IA</h2><ul><li><b>1) Ejercicio 1</b> — <a href='https://github.com/mariadelrosario98/TALLER1_INTRO_IA/blob/main/EJERCICIO_1.ipynb' target='_blank'>GitHub (vista)</a> · <a href='https://colab.research.google.com/github/mariadelrosario98/TALLER1_INTRO_IA/blob/main/EJERCICIO_1.ipynb' target='_blank'>Colab (interactivo)</a></li><li><b>2) Ejercicio 2</b> — <a href='https://github.com/mariadelrosario98/TALLER1_INTRO_IA/blob/main/EJERCICIO_2.ipynb' target='_blank'>GitHub (vista)</a> · <a href='https://colab.research.google.com/github/mariadelrosario98/TALLER1_INTRO_IA/blob/main/EJERCICIO_2.ipynb' target='_blank'>Colab (interactivo)</a></li><li><b>3) Ejercicio 3</b> — <a href='https://github.com/mariadelrosario98/TALLER1_INTRO_IA/blob/main/EJERCICIO_3.ipynb' target='_blank'>GitHub (vista)</a> · <a href='https://colab.research.google.com/github/mariadelrosario98/TALLER1_INTRO_IA/blob/main/EJERCICIO_3.ipynb' target='_blank'>Colab (interactivo)</a></li><li><b>4) Teoría</b> — <a href='https://github.com/mariadelrosario98/TALLER1_INTRO_IA/blob/main/EJERCICIO_4_teoria.ipynb' target='_blank'>GitHub (vista)</a> · <a href='https://colab.research.google.com/github/mariadelrosario98/TALLER1_INTRO_IA/blob/main/EJERCICIO_4_teoria.ipynb' target='_blank'>Colab (interactivo)</a></li><li><b>4) Interactivo</b> — <a href='https://github.com/mariadelrosario98/TALLER1_INTRO_IA/blob/main/EJERCICIO_4_interactivo.ipynb' target='_blank'>GitHub (vista)</a> · <a href='https://colab.research.google.com/github/mariadelrosario98/TALLER1_INTRO_IA/blob/main/EJERCICIO_4_interactivo.ipynb' target='_blank'>Colab (interactivo)</a></li><li><b>README</b> — <a href='https://github.com/mariadelrosario98/TALLER1_INTRO_IA/blob/main/README.md' target='_blank'>Abrir</a></li><li><b>📄 Taller Escrito (PDF)</b> — <a href='https://github.com/mariadelrosario98/TALLER1_INTRO_IA/blob/main/TALLER_1___Introducción_IA_Solucion.pdf' target='_blank'>Abrir</a></li></ul>"
      ],
      "text/plain": [
       "<IPython.core.display.HTML object>"
      ]
     },
     "execution_count": 8,
     "metadata": {},
     "output_type": "execute_result"
    }
   ],
   "source": [
    "from IPython.display import HTML\n",
    "\n",
    "# Rutas base\n",
    "gh = \"https://github.com/mariadelrosario98/TALLER1_INTRO_IA/blob/main/\"\n",
    "colab = \"https://colab.research.google.com/github/mariadelrosario98/TALLER1_INTRO_IA/blob/main/\"\n",
    "\n",
    "items = [\n",
    "    (\"1) Ejercicio 1\", \"EJERCICIO_1.ipynb\"),\n",
    "    (\"2) Ejercicio 2\", \"EJERCICIO_2.ipynb\"),\n",
    "    (\"3) Ejercicio 3\", \"EJERCICIO_3.ipynb\"),\n",
    "    (\"4) Teoría\", \"EJERCICIO_4_teoria.ipynb\"),\n",
    "    (\"4) Interactivo\", \"EJERCICIO_4_interactivo.ipynb\"),\n",
    "    (\"README\", \"README.md\"),\n",
    "    (\"📄 Taller Escrito (PDF)\", \"TALLER_1___Introducción_IA_Solucion.pdf\"),\n",
    "]\n",
    "\n",
    "html = [\"<h2>Taller 1 — Introducción a IA</h2><ul>\"]\n",
    "for nombre, ruta in items:\n",
    "    gh_link = gh + ruta\n",
    "    if ruta.endswith(\".ipynb\"):\n",
    "        colab_link = colab + ruta\n",
    "        html.append(\n",
    "            f\"<li><b>{nombre}</b> — \"\n",
    "            f\"<a href='{gh_link}' target='_blank'>GitHub (vista)</a> · \"\n",
    "            f\"<a href='{colab_link}' target='_blank'>Colab (interactivo)</a>\"\n",
    "            f\"</li>\"\n",
    "        )\n",
    "    else:\n",
    "        html.append(f\"<li><b>{nombre}</b> — <a href='{gh_link}' target='_blank'>Abrir</a></li>\")\n",
    "html.append(\"</ul>\")\n",
    "\n",
    "HTML(\"\".join(html))\n"
   ]
  }
 ],
 "metadata": {
  "kernelspec": {
   "display_name": "Python 3",
   "language": "python",
   "name": "python3"
  },
  "language_info": {
   "codemirror_mode": {
    "name": "ipython",
    "version": 3
   },
   "file_extension": ".py",
   "mimetype": "text/x-python",
   "name": "python",
   "nbconvert_exporter": "python",
   "pygments_lexer": "ipython3",
   "version": "3.13.6"
  }
 },
 "nbformat": 4,
 "nbformat_minor": 5
}
